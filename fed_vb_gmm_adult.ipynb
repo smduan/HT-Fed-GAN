{
 "cells": [
  {
   "cell_type": "markdown",
   "metadata": {},
   "source": [
    "# import pakages\n",
    "\n",
    "GMM.MyGMM is the pakage which we buide based on sklearn.mixture.BayesianGaussianMixture\n",
    "\n",
    "The functions in GMM.MyGMM is same as sklearn.mixture.BayesianGaussianMixture except `average_log_likelihood()`\n",
    "\n",
    "`self.average_log_likelihood(X) `\n",
    "\n",
    "compute the aveage_log_likelihood of real data X in current mixture model"
   ]
  },
  {
   "cell_type": "code",
   "execution_count": 1,
   "metadata": {},
   "outputs": [],
   "source": [
    "# import the pakages for vb-gmm\n",
    "from GMM.VB_GMM import BayesianGaussianMixture\n",
    "import numpy as np\n",
    "import pandas as pd\n",
    "\n",
    "# import the pakages for fed-vb-gmm\n",
    "import torch\n",
    "from scipy.stats import norm\n",
    "from fed_vb_gmm.vmclient import Client\n",
    "from fed_vb_gmm.vmserver import Server\n",
    "import syft as sy\n",
    "import time"
   ]
  },
  {
   "cell_type": "markdown",
   "metadata": {},
   "source": [
    "# set env which have decentrelised data in three different nodes\n",
    "\n",
    "there are three clients:alice, bob, charles, they all have partial data of real data Adult.\n",
    "\n"
   ]
  },
  {
   "cell_type": "code",
   "execution_count": 2,
   "metadata": {},
   "outputs": [],
   "source": [
    "hook=sy.TorchHook(torch)\n",
    "\n",
    "# each client only have partial data of real data adult \n",
    "clients_conf = [\n",
    "    {\n",
    "        \"name\": \"alice\",\n",
    "        \"path\": \"./data/adult/education_0.csv\",\n",
    "        \"usecols\": [1]\n",
    "     },\n",
    "    {\n",
    "        \"name\": \"bob\",\n",
    "        \"path\": \"./data/adult/education_1.csv\",\n",
    "        \"usecols\": [1]\n",
    "     },\n",
    "    {\n",
    "        \"name\": \"chalice\",\n",
    "        \"path\": \"./data/adult/education_2.csv\",\n",
    "        \"usecols\": [1]\n",
    "     },\n",
    "]\n",
    "\n",
    "# age column of real dataset adult\n",
    "# calculate ave_log_likelihood to evaluation mixture model\n",
    "adult_age = pd.read_csv(\"./data/adult/adult_train.csv\", usecols=[0])\n",
    "\n",
    "age = adult_age.values\n",
    "\n",
    "n_sample = len(age)"
   ]
  },
  {
   "cell_type": "markdown",
   "metadata": {},
   "source": [
    "# define Fed-VB-GMM function\n",
    "\n",
    "In this part, we define a Fed-VB-GMM trainning function and calculate the average_log_likelihood.\n",
    "\n",
    "it build a VB-GMM based on age column in decentralised data adult(education_0, education_1, education_2).\n",
    "\n",
    "we calculate average_log_likelihood when fed_vb_gmm trains with different n_component parameters.\n"
   ]
  },
  {
   "cell_type": "code",
   "execution_count": 3,
   "metadata": {},
   "outputs": [],
   "source": [
    "def fed_vb_gmm_fit(n_components):\n",
    "    # init server and client\n",
    "    clients_list = []\n",
    "    for client_conf in clients_conf:\n",
    "        clients_list.append(\n",
    "            Client(client_conf[\"name\"], client_conf[\"path\"],\n",
    "                          client_conf[\"usecols\"], hook)\n",
    "        )\n",
    "    server = Server(n_components=n_components,n_samples=n_sample, weight_concentration_prior_type='dirichlet_process',\n",
    "                weight_concentration_prior=0.001,init_params=\"random\",max_iter=100,\n",
    "                n_init=1,hook=hook)\n",
    "    # create encryption server\n",
    "    cw = sy.VirtualWorker(hook,id=\"cw\")\n",
    "\n",
    "    # server connect to clients\n",
    "    for client in clients_list:\n",
    "        server.connect_client(client)\n",
    "        server.connect_cw(cw)\n",
    "    for client in clients_list:\n",
    "        client.connect_server(server.server)\n",
    "        client.connect_other_client(server.clients)\n",
    "        client.connect_cw(cw)\n",
    "\n",
    "    # server initialize params\n",
    "\n",
    "    # calculate means_prior\n",
    "    sum_list = []\n",
    "    for client in clients_list:\n",
    "        sum = client.calcu_means_prior()\n",
    "        sum_list.append(sum.reshape(-1,1))\n",
    "    server.calcu_means_prior(sum_list)\n",
    "\n",
    "    # calculate covariance_prior\n",
    "    covariances_list = []\n",
    "    for client in clients_list:\n",
    "        covariances = client.calcu_covariances_prior(server.means_prior_)\n",
    "        covariances_list.append(covariances)\n",
    "    server.calcu_covariances_prior(covariances_list)\n",
    "\n",
    "    params_prior = server.send_params_prior()\n",
    "    for client in clients_list:\n",
    "        client.get_params_prior(params_prior)\n",
    "\n",
    "    # server initialize rn\n",
    "    server.initialize_rn(np.random.mtrand._rand)\n",
    "    nk = server.init_nk()\n",
    "    resp_list = server.send_resp()\n",
    "\n",
    "    max_lower_bound = -np.infty\n",
    "    server.converged_ = False\n",
    "\n",
    "    for init in range(server.n_init):\n",
    "        # if don't warm start, begin initalization\n",
    "        #-----------------------------------------\n",
    "        # clients calculate x_sum\n",
    "        x_sum_list = []\n",
    "        for client in clients_list:\n",
    "            x_sum = client.calcu_x_sum()\n",
    "            x_sum_list.append(x_sum)\n",
    "\n",
    "        # server calculate xk,nk, then update parameters\n",
    "        xk = server.calcu_x_bar(x_sum_list, nk)\n",
    "        params = server.estimate_params(nk, xk)\n",
    "\n",
    "        # clients finish m_step\n",
    "        # don't calculate low_bound when initialization\n",
    "        sk_list = []\n",
    "        for client in clients_list:\n",
    "            sk, tmp1, tmp2 = client.m_step(params)\n",
    "            sk_list.append(sk)\n",
    "            if client == clients_list[1]:\n",
    "                covariances_ = tmp1\n",
    "\n",
    "        # server merge\n",
    "        sk, covariances_ = server.aggregation_and_convergence_check(params, sk_list, covariances_)\n",
    "        #--------------------------------------------------------------------------------------\n",
    "        # set a most minimal lower_bound\n",
    "        lower_bound = -np.infty\n",
    "\n",
    "        # start trainning\n",
    "        for n_iter in range(1, server.max_iter + 1):\n",
    "            prev_lower_bound = lower_bound\n",
    "            iter_start = time.time()\n",
    "            # print(n_iter)\n",
    "            log_likelihood_list = []\n",
    "            if n_iter % 10 == 0:\n",
    "                real = age\n",
    "                likelihood_x = 0\n",
    "                weight_concentration_ = params[\"weight_concentration_\"].numpy()\n",
    "                means_ = params[\"means_\"].numpy()\n",
    "                weights = (weight_concentration_ / np.sum(weight_concentration_))\n",
    "                for j in range(server.n_components):\n",
    "                    mean = means_[j]\n",
    "                    cov = covariances_[j]\n",
    "                    weight = weights[j]\n",
    "                    pdf_component = norm.pdf(real.reshape(len(real)), loc=mean, scale=cov)\n",
    "                    likelihood_x += pdf_component * weight\n",
    "                log_likelihood_x = np.log(likelihood_x)\n",
    "                ave_log_likelihood = np.average(log_likelihood_x)\n",
    "                log_likelihood_list.append(ave_log_likelihood)\n",
    "\n",
    "            # e_step\n",
    "            xk_client_list = []\n",
    "            log_resp_list = []\n",
    "            resp_list = []\n",
    "            resp_ptr_list = []\n",
    "            start = time.time()\n",
    "            for client in clients_list:\n",
    "                xk_client, log_resp, resp, _ = client.e_step(sk_list,covariances_,params)\n",
    "                xk_client_list.append(xk_client)\n",
    "                log_resp_list.append(log_resp)\n",
    "                # resp_list.append(torch.exp(log_resp))\n",
    "                resp_list.append(resp)\n",
    "                resp_ptr_list.append(_)\n",
    "            end = time.time()\n",
    "            spend_time = end - start\n",
    "\n",
    "            # server m_step\n",
    "            start = time.time()\n",
    "            nk, xk, params = server.m_step(xk_client_list, resp_list)\n",
    "\n",
    "            # client m_step\n",
    "            sk_list = []\n",
    "            for client in clients_list:\n",
    "                sk, tmp1, tmp2 = client.m_step(params, if_init=True, log_resp=log_resp_list)\n",
    "                sk_list.append(sk)\n",
    "                if client == clients_list[0]:\n",
    "                    lower_bound = tmp2.get().numpy()\n",
    "                    # lower_bound = tmp2.get()\n",
    "                elif client == clients_list[1]:\n",
    "                    covariances_ = tmp1\n",
    "            end = time.time()\n",
    "            spend_time = end - start\n",
    "\n",
    "            # server merge\n",
    "            start = time.time()\n",
    "            sk, covariances_ = server.aggregation_and_convergence_check(params, sk_list, covariances_)\n",
    "\n",
    "            end = time.time()\n",
    "            spend_time = end - start\n",
    "\n",
    "            iter_end = time.time()\n",
    "            spend_time = iter_end-iter_start\n",
    "\n",
    "            change = lower_bound - prev_lower_bound\n",
    "            if abs(change) < server.tol:\n",
    "                server.converged_ = True\n",
    "                break\n",
    "\n",
    "        # iterative update\n",
    "        if lower_bound > max_lower_bound:\n",
    "            max_lower_bound = lower_bound\n",
    "            best_params = (\n",
    "                clients_list[0].weight_concentration_,\n",
    "                clients_list[0].mean_precision_,\n",
    "                clients_list[0].means_,\n",
    "                clients_list[0].degrees_of_freedom_,\n",
    "                covariances_,\n",
    "                clients_list[0].precision_cholesky_\n",
    "            )\n",
    "            best_n_iter = n_iter\n",
    "\n",
    "            # log_resp_list = []\n",
    "            # for client in clients_list:\n",
    "            #     a, log_resp,b,c = client.e_step(sk_list,covariances_,params)\n",
    "            #     log_resp_list.append(log_resp.get().float_precision().numpy())\n",
    "            # log_resp = np.concatenate(log_resp_list, axis=0).reshape(-1, server.n_components)\n",
    "            # result = log_resp.argmax(axis=1)\n",
    "            # pass\n",
    "        \n",
    "        return ave_log_likelihood"
   ]
  },
  {
   "cell_type": "code",
   "execution_count": 4,
   "metadata": {},
   "outputs": [
    {
     "name": "stderr",
     "output_type": "stream",
     "text": [
      "/root/anaconda3/envs/swarm-learning/lib/python3.6/site-packages/syft/frameworks/torch/hook/hook.py:535: UserWarning: To copy construct from a tensor, it is recommended to use sourceTensor.clone().detach() or sourceTensor.clone().detach().requires_grad_(True), rather than torch.tensor(sourceTensor).\n",
      "  current_tensor = hook_self.torch.native_tensor(*args, **kwargs)\n"
     ]
    },
    {
     "name": "stdout",
     "output_type": "stream",
     "text": [
      "whe n_components is 2, ave_log_likelihood is -5.235562857325593\n",
      "whe n_components is 4, ave_log_likelihood is -4.7792612538775545\n",
      "whe n_components is 8, ave_log_likelihood is -4.660632018715773\n",
      "whe n_components is 16, ave_log_likelihood is -4.64244312269794\n",
      "whe n_components is 32, ave_log_likelihood is -4.660537834483193\n"
     ]
    }
   ],
   "source": [
    "n_components_params = [2, 4, 8, 16, 32]\n",
    "ave_log_likelihood_list = []\n",
    "for n_components in n_components_params:\n",
    "    ave_log_likelihood = fed_vb_gmm_fit(n_components)\n",
    "    ave_log_likelihood_list.append(ave_log_likelihood)\n",
    "    print(\"whe n_components is {}, ave_log_likelihood is {}\".format(n_components, ave_log_likelihood))"
   ]
  },
  {
   "cell_type": "code",
   "execution_count": 6,
   "metadata": {
    "scrolled": true
   },
   "outputs": [
    {
     "name": "stderr",
     "output_type": "stream",
     "text": [
      "/root/Desktop/fedvbgmm/GMM/MyGMM.py:957: ConvergenceWarning: Initialization 1 did not converge. Try different init parameters, or increase max_iter, tol or check for degenerate data.\n",
      "  % (init + 1), ConvergenceWarning)\n"
     ]
    },
    {
     "name": "stdout",
     "output_type": "stream",
     "text": [
      "whe n_components is 2, ave_log_likelihood is -5.229613078132284\n"
     ]
    },
    {
     "name": "stderr",
     "output_type": "stream",
     "text": [
      "/root/Desktop/fedvbgmm/GMM/MyGMM.py:957: ConvergenceWarning: Initialization 1 did not converge. Try different init parameters, or increase max_iter, tol or check for degenerate data.\n",
      "  % (init + 1), ConvergenceWarning)\n"
     ]
    },
    {
     "name": "stdout",
     "output_type": "stream",
     "text": [
      "whe n_components is 4, ave_log_likelihood is -4.8600537417908605\n"
     ]
    },
    {
     "name": "stderr",
     "output_type": "stream",
     "text": [
      "/root/Desktop/fedvbgmm/GMM/MyGMM.py:957: ConvergenceWarning: Initialization 1 did not converge. Try different init parameters, or increase max_iter, tol or check for degenerate data.\n",
      "  % (init + 1), ConvergenceWarning)\n"
     ]
    },
    {
     "name": "stdout",
     "output_type": "stream",
     "text": [
      "whe n_components is 8, ave_log_likelihood is -4.792928510506753\n"
     ]
    },
    {
     "name": "stderr",
     "output_type": "stream",
     "text": [
      "/root/Desktop/fedvbgmm/GMM/MyGMM.py:957: ConvergenceWarning: Initialization 1 did not converge. Try different init parameters, or increase max_iter, tol or check for degenerate data.\n",
      "  % (init + 1), ConvergenceWarning)\n"
     ]
    },
    {
     "name": "stdout",
     "output_type": "stream",
     "text": [
      "whe n_components is 16, ave_log_likelihood is -4.7629278498171965\n",
      "whe n_components is 32, ave_log_likelihood is -4.77854643073494\n"
     ]
    },
    {
     "name": "stderr",
     "output_type": "stream",
     "text": [
      "/root/Desktop/fedvbgmm/GMM/MyGMM.py:957: ConvergenceWarning: Initialization 1 did not converge. Try different init parameters, or increase max_iter, tol or check for degenerate data.\n",
      "  % (init + 1), ConvergenceWarning)\n"
     ]
    }
   ],
   "source": [
    "base_ave_log_likelihood_list = []\n",
    "for n_components in n_components_params:\n",
    "    bgm = BayesianGaussianMixture(n_components=n_components, weight_concentration_prior_type='dirichlet_distribution',\n",
    "            weight_concentration_prior=0.001,init_params=\"random\",max_iter=100,\n",
    "            n_init=1)\n",
    "    bgm.fit(age)\n",
    "    ave_log_likelihood = bgm.average_log_likelihood(age)\n",
    "    base_ave_log_likelihood_list.append(ave_log_likelihood)\n",
    "    print(\"whe n_components is {}, ave_log_likelihood is {}\".format(n_components, ave_log_likelihood))"
   ]
  },
  {
   "cell_type": "markdown",
   "metadata": {},
   "source": [
    "# matplot"
   ]
  },
  {
   "cell_type": "code",
   "execution_count": 7,
   "metadata": {},
   "outputs": [
    {
     "data": {
      "text/plain": [
       "[-5.229613078132284,\n",
       " -4.8600537417908605,\n",
       " -4.792928510506753,\n",
       " -4.7629278498171965,\n",
       " -4.77854643073494]"
      ]
     },
     "execution_count": 7,
     "metadata": {},
     "output_type": "execute_result"
    }
   ],
   "source": [
    "likelihood = base_ave_log_likelihood_list\n",
    "likelihood"
   ]
  },
  {
   "cell_type": "code",
   "execution_count": 8,
   "metadata": {},
   "outputs": [
    {
     "data": {
      "text/plain": [
       "[-5.235562857325593,\n",
       " -4.7792612538775545,\n",
       " -4.660632018715773,\n",
       " -4.64244312269794,\n",
       " -4.660537834483193]"
      ]
     },
     "execution_count": 8,
     "metadata": {},
     "output_type": "execute_result"
    }
   ],
   "source": [
    "fed_likelihood = ave_log_likelihood_list\n",
    "fed_likelihood"
   ]
  },
  {
   "cell_type": "code",
   "execution_count": 11,
   "metadata": {},
   "outputs": [
    {
     "data": {
      "text/plain": [
       "<matplotlib.legend.Legend at 0x7f02656ebba8>"
      ]
     },
     "execution_count": 11,
     "metadata": {},
     "output_type": "execute_result"
    },
    {
     "data": {
      "image/png": "[encoded data removed]",
      "text/plain": [
       "<Figure size 360x288 with 1 Axes>"
      ]
     },
     "metadata": {
      "needs_background": "light"
     },
     "output_type": "display_data"
    }
   ],
   "source": [
    "from matplotlib import rcParams\n",
    "import matplotlib.pyplot as plt\n",
    "\n",
    "config = {\n",
    "    \"font.family\":'Times New Roman',\n",
    "}\n",
    "rcParams.update(config)\n",
    "\n",
    "\n",
    "plt.figure(figsize=(5,4))\n",
    "n_components_list = [1,2,3,4,5]\n",
    "plt.xlabel('cluster number')\n",
    "plt.ylabel('average log likelihood')\n",
    "plt.plot(n_components_list, likelihood,linestyle = '-', label='VB-GMM',color='blue',\n",
    "         marker = '^', \n",
    "        )\n",
    "plt.plot(n_components_list, fed_likelihood,linestyle = '-', label='Fed-VB-GMM',color='red',\n",
    "         marker = '^', \n",
    "        )\n",
    "plt.xticks([1,2,3,4,5], [\"2\",\"4\",\"8\",\"16\",\"32\"])\n",
    "yticks = np.arange(-4,-7,-0.5)\n",
    "plt.yticks(yticks)\n",
    "plt.grid(True)\n",
    "plt.legend(loc='lower right')"
   ]
  },
  {
   "cell_type": "code",
   "execution_count": null,
   "metadata": {},
   "outputs": [],
   "source": []
  }
 ],
 "metadata": {
  "kernelspec": {
   "display_name": "swarm-learning",
   "language": "python",
   "name": "swarm-learning"
  },
  "language_info": {
   "codemirror_mode": {
    "name": "ipython",
    "version": 3
   },
   "file_extension": ".py",
   "mimetype": "text/x-python",
   "name": "python",
   "nbconvert_exporter": "python",
   "pygments_lexer": "ipython3",
   "version": "3.6.9"
  }
 },
 "nbformat": 4,
 "nbformat_minor": 4
}
